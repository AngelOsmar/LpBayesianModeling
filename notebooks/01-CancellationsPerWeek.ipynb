{
 "cells": [
  {
   "cell_type": "code",
   "execution_count": 1,
   "id": "initial_id",
   "metadata": {
    "collapsed": true,
    "ExecuteTime": {
     "end_time": "2024-02-26T13:50:13.705658322Z",
     "start_time": "2024-02-26T13:50:13.274394822Z"
    }
   },
   "outputs": [],
   "source": [
    "import pandas as pd"
   ]
  },
  {
   "cell_type": "code",
   "outputs": [],
   "source": [
    "hotel_bookings = pd.read_csv(\"../Data/H1.csv\")"
   ],
   "metadata": {
    "collapsed": false,
    "ExecuteTime": {
     "end_time": "2024-02-26T13:50:17.778480810Z",
     "start_time": "2024-02-26T13:50:17.655601448Z"
    }
   },
   "id": "6bf04f529e313fce",
   "execution_count": 2
  },
  {
   "cell_type": "code",
   "outputs": [
    {
     "data": {
      "text/plain": "0       2015-07-01\n1       2015-07-01\n2       2015-07-01\n3       2015-07-01\n4       2015-07-01\n           ...    \n40055   2017-08-31\n40056   2017-08-30\n40057   2017-08-29\n40058   2017-08-31\n40059   2017-08-31\nLength: 40060, dtype: datetime64[ns]"
     },
     "execution_count": 3,
     "metadata": {},
     "output_type": "execute_result"
    }
   ],
   "source": [
    "# combine year, month and date of arrival\n",
    "\n",
    "def combineDatesOfArrival():\n",
    "    year = hotel_bookings[\"ArrivalDateYear\"].map(str)\n",
    "    month = hotel_bookings[\"ArrivalDateMonth\"]\n",
    "    day = hotel_bookings[\"ArrivalDateDayOfMonth\"].map(str)\n",
    "    \n",
    "    full_date = year + \"-\" + month + \"-\" + day\n",
    "    dt_full_date = pd.to_datetime(full_date, format=\"%Y-%B-%d\")\n",
    "    return dt_full_date\n",
    "\n",
    "combineDatesOfArrival()"
   ],
   "metadata": {
    "collapsed": false,
    "ExecuteTime": {
     "end_time": "2024-02-26T13:50:20.441084847Z",
     "start_time": "2024-02-26T13:50:20.417706703Z"
    }
   },
   "id": "ce93a3b0d0e59659",
   "execution_count": 3
  },
  {
   "cell_type": "code",
   "outputs": [
    {
     "data": {
      "text/plain": "            IsCanceled\nFull Date             \n2015-07-05          49\n2015-07-12          48\n2015-07-19          90\n2015-07-26          74\n2015-08-02          97",
      "text/html": "<div>\n<style scoped>\n    .dataframe tbody tr th:only-of-type {\n        vertical-align: middle;\n    }\n\n    .dataframe tbody tr th {\n        vertical-align: top;\n    }\n\n    .dataframe thead th {\n        text-align: right;\n    }\n</style>\n<table border=\"1\" class=\"dataframe\">\n  <thead>\n    <tr style=\"text-align: right;\">\n      <th></th>\n      <th>IsCanceled</th>\n    </tr>\n    <tr>\n      <th>Full Date</th>\n      <th></th>\n    </tr>\n  </thead>\n  <tbody>\n    <tr>\n      <th>2015-07-05</th>\n      <td>49</td>\n    </tr>\n    <tr>\n      <th>2015-07-12</th>\n      <td>48</td>\n    </tr>\n    <tr>\n      <th>2015-07-19</th>\n      <td>90</td>\n    </tr>\n    <tr>\n      <th>2015-07-26</th>\n      <td>74</td>\n    </tr>\n    <tr>\n      <th>2015-08-02</th>\n      <td>97</td>\n    </tr>\n  </tbody>\n</table>\n</div>"
     },
     "execution_count": 5,
     "metadata": {},
     "output_type": "execute_result"
    }
   ],
   "source": [
    "def getCancellationsPerWeek():\n",
    "    weekly_agg = pd.DataFrame()\n",
    "    weekly_agg[\"Full Date\"] = combineDatesOfArrival()\n",
    "    weekly_agg[\"IsCanceled\"] = hotel_bookings[\"IsCanceled\"]\n",
    "    \n",
    "    grouper = pd.Grouper(key=\"Full Date\", freq=\"W\")\n",
    "    weekly_agg = weekly_agg.groupby(grouper).sum()\n",
    "    return weekly_agg\n",
    "\n",
    "getCancellationsPerWeek().head()"
   ],
   "metadata": {
    "collapsed": false,
    "ExecuteTime": {
     "end_time": "2024-02-26T13:57:23.374811594Z",
     "start_time": "2024-02-26T13:57:23.316905919Z"
    }
   },
   "id": "7bb98ab94fe365a6",
   "execution_count": 5
  },
  {
   "cell_type": "code",
   "outputs": [],
   "source": [
    "weekly_cancellations = getCancellationsPerWeek()\n",
    "\n",
    "weekly_cancellations.to_csv(\"../Data/WeeklyCancellations.csv\")"
   ],
   "metadata": {
    "collapsed": false,
    "ExecuteTime": {
     "end_time": "2024-02-26T13:58:14.812722277Z",
     "start_time": "2024-02-26T13:58:14.765707093Z"
    }
   },
   "id": "1b5e5df4c5e487d9",
   "execution_count": 6
  }
 ],
 "metadata": {
  "kernelspec": {
   "display_name": "Python 3",
   "language": "python",
   "name": "python3"
  },
  "language_info": {
   "codemirror_mode": {
    "name": "ipython",
    "version": 2
   },
   "file_extension": ".py",
   "mimetype": "text/x-python",
   "name": "python",
   "nbconvert_exporter": "python",
   "pygments_lexer": "ipython2",
   "version": "2.7.6"
  }
 },
 "nbformat": 4,
 "nbformat_minor": 5
}
