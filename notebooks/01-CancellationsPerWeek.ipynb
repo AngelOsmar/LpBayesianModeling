{
 "cells": [
  {
   "cell_type": "code",
   "execution_count": 1,
   "id": "initial_id",
   "metadata": {
    "collapsed": true,
    "ExecuteTime": {
     "end_time": "2024-02-25T06:40:22.306793877Z",
     "start_time": "2024-02-25T06:40:22.090279855Z"
    }
   },
   "outputs": [],
   "source": [
    "import pandas as pd"
   ]
  },
  {
   "cell_type": "code",
   "outputs": [],
   "source": [
    "hotel_bookings = pd.read_csv(\"../Data/H1.csv\")"
   ],
   "metadata": {
    "collapsed": false,
    "ExecuteTime": {
     "end_time": "2024-02-25T06:40:25.880755029Z",
     "start_time": "2024-02-25T06:40:25.758676095Z"
    }
   },
   "id": "6bf04f529e313fce",
   "execution_count": 2
  },
  {
   "cell_type": "code",
   "outputs": [],
   "source": [
    "hotel_bookings[\"Date (Year and Week Number)\"] = (\n",
    "    hotel_bookings[\"ArrivalDateYear\"].map(str)\n",
    "    + hotel_bookings[\"ArrivalDateWeekNumber\"].map(str)\n",
    ")"
   ],
   "metadata": {
    "collapsed": false,
    "ExecuteTime": {
     "end_time": "2024-02-25T06:47:56.618578737Z",
     "start_time": "2024-02-25T06:47:56.577708632Z"
    }
   },
   "id": "5fea7e81fe30db50",
   "execution_count": 4
  },
  {
   "cell_type": "code",
   "outputs": [
    {
     "data": {
      "text/plain": "Index(['IsCanceled', 'LeadTime', 'ArrivalDateYear', 'ArrivalDateMonth',\n       'ArrivalDateWeekNumber', 'ArrivalDateDayOfMonth',\n       'StaysInWeekendNights', 'StaysInWeekNights', 'Adults', 'Children',\n       'Babies', 'Meal', 'Country', 'MarketSegment', 'DistributionChannel',\n       'IsRepeatedGuest', 'PreviousCancellations',\n       'PreviousBookingsNotCanceled', 'ReservedRoomType', 'AssignedRoomType',\n       'BookingChanges', 'DepositType', 'Agent', 'Company',\n       'DaysInWaitingList', 'CustomerType', 'ADR', 'RequiredCarParkingSpaces',\n       'TotalOfSpecialRequests', 'ReservationStatus', 'ReservationStatusDate',\n       'Date (Year and Week Number)'],\n      dtype='object')"
     },
     "execution_count": 9,
     "metadata": {},
     "output_type": "execute_result"
    }
   ],
   "source": [
    "hotel_bookings.columns"
   ],
   "metadata": {
    "collapsed": false,
    "ExecuteTime": {
     "end_time": "2024-02-25T06:54:40.718653860Z",
     "start_time": "2024-02-25T06:54:40.661797279Z"
    }
   },
   "id": "3df403a89069eb62",
   "execution_count": 9
  },
  {
   "cell_type": "code",
   "outputs": [
    {
     "data": {
      "text/plain": "  Date (Year and Week Number)  IsCanceled\n0                      201527          41\n1                      201528          48\n2                      201529          87\n3                      201530          74\n4                      201531         101",
      "text/html": "<div>\n<style scoped>\n    .dataframe tbody tr th:only-of-type {\n        vertical-align: middle;\n    }\n\n    .dataframe tbody tr th {\n        vertical-align: top;\n    }\n\n    .dataframe thead th {\n        text-align: right;\n    }\n</style>\n<table border=\"1\" class=\"dataframe\">\n  <thead>\n    <tr style=\"text-align: right;\">\n      <th></th>\n      <th>Date (Year and Week Number)</th>\n      <th>IsCanceled</th>\n    </tr>\n  </thead>\n  <tbody>\n    <tr>\n      <th>0</th>\n      <td>201527</td>\n      <td>41</td>\n    </tr>\n    <tr>\n      <th>1</th>\n      <td>201528</td>\n      <td>48</td>\n    </tr>\n    <tr>\n      <th>2</th>\n      <td>201529</td>\n      <td>87</td>\n    </tr>\n    <tr>\n      <th>3</th>\n      <td>201530</td>\n      <td>74</td>\n    </tr>\n    <tr>\n      <th>4</th>\n      <td>201531</td>\n      <td>101</td>\n    </tr>\n  </tbody>\n</table>\n</div>"
     },
     "execution_count": 12,
     "metadata": {},
     "output_type": "execute_result"
    }
   ],
   "source": [
    "cols_of_interest = [\"IsCanceled\",\"Date (Year and Week Number)\"]\n",
    "\n",
    "agg_cancellations = (\n",
    "    hotel_bookings[cols_of_interest]\n",
    "    .groupby(\"Date (Year and Week Number)\")\n",
    "    .sum()\n",
    ")\n",
    "\n",
    "agg_cancellations.reset_index(inplace=True)\n",
    "\n",
    "agg_cancellations.head()"
   ],
   "metadata": {
    "collapsed": false,
    "ExecuteTime": {
     "end_time": "2024-02-25T06:58:28.115244725Z",
     "start_time": "2024-02-25T06:58:28.070105326Z"
    }
   },
   "id": "c7afcee665f819f2",
   "execution_count": 12
  }
 ],
 "metadata": {
  "kernelspec": {
   "display_name": "Python 3",
   "language": "python",
   "name": "python3"
  },
  "language_info": {
   "codemirror_mode": {
    "name": "ipython",
    "version": 2
   },
   "file_extension": ".py",
   "mimetype": "text/x-python",
   "name": "python",
   "nbconvert_exporter": "python",
   "pygments_lexer": "ipython2",
   "version": "2.7.6"
  }
 },
 "nbformat": 4,
 "nbformat_minor": 5
}
