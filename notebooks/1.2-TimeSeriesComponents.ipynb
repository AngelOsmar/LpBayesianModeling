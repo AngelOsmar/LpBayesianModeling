{
 "cells": [
  {
   "cell_type": "code",
   "execution_count": null,
   "id": "initial_id",
   "metadata": {
    "collapsed": true
   },
   "outputs": [],
   "source": [
    "import pandas as pd\n",
    "import matplotlib.pyplot as plt\n",
    "from statsmodels.tsa.seasonal import seasonal_decompose\n",
    "from statsmodels.graphics.tsaplots import plot_acf, plot_pacf\n",
    "from sklearn.model_selection import train_test_split"
   ]
  },
  {
   "cell_type": "code",
   "outputs": [],
   "source": [
    "weekly_cancellations = pd.read_csv(\"../Data/WeeklyCancellations.csv\")\n",
    "weekly_cancellations[\"Full Date\"] = pd.to_datetime(weekly_cancellations[\"Full Date\"])\n",
    "\n",
    "weekly_cancellations.set_index(\"Full Date\", inplace=True)"
   ],
   "metadata": {
    "collapsed": false
   },
   "id": "1dbfe6bc7ad8066a",
   "execution_count": null
  },
  {
   "cell_type": "code",
   "outputs": [],
   "source": [
    "# decompose time series into individual components\n",
    "decomposition = seasonal_decompose(weekly_cancellations, period=52)\n",
    "\n",
    "seasonal_component = decomposition.seasonal\n",
    "trend_component = decomposition.trend\n",
    "residual_component = decomposition.resid"
   ],
   "metadata": {
    "collapsed": false
   },
   "id": "16518a7aff1b0e89",
   "execution_count": null
  },
  {
   "cell_type": "code",
   "outputs": [],
   "source": [
    "# plot individual components\n",
    "def plot_components():\n",
    "    fig, axs = plt.subplots(nrows=4, ncols=1, sharex=True)\n",
    "    \n",
    "    axs[0].plot(decomposition.observed, label=\"Observed\")\n",
    "    axs[0].set_ylabel(\"Observed\")\n",
    "    \n",
    "    axs[1].plot(seasonal_component, label=\"Seasonal\")\n",
    "    axs[1].set_ylabel(\"Seasonal\")\n",
    "    \n",
    "    axs[2].plot(trend_component, label=\"Trend\")\n",
    "    axs[2].set_ylabel(\"Trend\")\n",
    "    \n",
    "    axs[3].plot(residual_component, label=\"Residual\")\n",
    "    axs[3].set_ylabel(\"Residual\")\n",
    "    \n",
    "    plt.tight_layout()\n",
    "    \n",
    "plot_components()"
   ],
   "metadata": {
    "collapsed": false
   },
   "id": "86728bb6c089fac4",
   "execution_count": null
  },
  {
   "cell_type": "code",
   "outputs": [],
   "source": [
    "plot_acf(weekly_cancellations[\"IsCanceled\"], lags=52)\n",
    "plt.show()"
   ],
   "metadata": {
    "collapsed": false
   },
   "id": "53adde3c09878b77",
   "execution_count": null
  },
  {
   "cell_type": "code",
   "outputs": [],
   "source": [
    "plot_pacf(weekly_cancellations[\"IsCanceled\"], lags=52)\n",
    "plt.show()"
   ],
   "metadata": {
    "collapsed": false
   },
   "id": "3bab729390950ae7",
   "execution_count": null
  },
  {
   "cell_type": "code",
   "outputs": [],
   "source": [
    "def plot_mavg_and_data():\n",
    "    # get 4 week moving average\n",
    "    mavg_4weeks = weekly_cancellations[\"IsCanceled\"].rolling(window=4).mean()\n",
    "    # plot moving average against series\n",
    "    plt.figure(figsize=(14,7))\n",
    "    plt.plot(weekly_cancellations[\"IsCanceled\"], label=\"Actual Cancellations\", color=\"blue\")\n",
    "    plt.plot(mavg_4weeks, label=\"4-Week Moving Average\", color=\"red\", linestyle=\"--\")\n",
    "    plt.title(\"Actual Cancellations vs 4-Week Moving Average\")\n",
    "    \n",
    "plot_mavg_and_data()"
   ],
   "metadata": {
    "collapsed": false
   },
   "id": "be0a2cbbd709707f",
   "execution_count": null
  },
  {
   "cell_type": "code",
   "outputs": [],
   "source": [
    "def perform_train_test_split():\n",
    "    input_data = weekly_cancellations.reset_index()\n",
    "    X = input_data[\"Full Date\"]\n",
    "    y = input_data[\"IsCanceled\"]\n",
    "    \n",
    "    return train_test_split(X, y, test_size=0.9, random_state=42)\n",
    "\n",
    "x_train, x_test, y_train, y_test = perform_train_test_split()"
   ],
   "metadata": {
    "collapsed": false
   },
   "id": "c5903ff84ffa986c",
   "execution_count": null
  }
 ],
 "metadata": {
  "kernelspec": {
   "display_name": "Python 3",
   "language": "python",
   "name": "python3"
  },
  "language_info": {
   "codemirror_mode": {
    "name": "ipython",
    "version": 2
   },
   "file_extension": ".py",
   "mimetype": "text/x-python",
   "name": "python",
   "nbconvert_exporter": "python",
   "pygments_lexer": "ipython2",
   "version": "2.7.6"
  }
 },
 "nbformat": 4,
 "nbformat_minor": 5
}
